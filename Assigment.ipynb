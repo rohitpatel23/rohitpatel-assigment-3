{
 "cells": [
  {
   "cell_type": "code",
   "execution_count": 1,
   "id": "3073b502-39c7-49b2-97b2-4956986205a8",
   "metadata": {},
   "outputs": [],
   "source": []
  },
  {
   "cell_type": "code",
   "execution_count": null,
   "id": "cdde3b09-4140-4765-8f86-e1eb732cbc6e",
   "metadata": {},
   "outputs": [],
   "source": [
    "#Q1. Explain with an example each when to use a for loop and a while loop."
   ]
  },
  {
   "cell_type": "code",
   "execution_count": 5,
   "id": "88a279ab-8e90-4c59-81bd-b8d492c26593",
   "metadata": {},
   "outputs": [
    {
     "name": "stdout",
     "output_type": "stream",
     "text": [
      "1\n",
      "2\n",
      "3\n",
      "4\n",
      "5\n",
      "6\n"
     ]
    },
    {
     "name": "stdin",
     "output_type": "stream",
     "text": [
      "enter the number  5\n"
     ]
    },
    {
     "name": "stdout",
     "output_type": "stream",
     "text": [
      "0\n"
     ]
    }
   ],
   "source": [
    "#  use of foor loop when we know the loop should execute n times \n",
    "# for example\n",
    "l=[1,2,3,4,5,6]\n",
    "for i in l:\n",
    "    print(i)\n",
    "# where we want traversing the list we know that how many times the loop should \n",
    "# be execute so we use for loop .\n",
    "\n",
    "# while loop \n",
    "# use of while loop when we  not know that  how many times loop should be exectue \n",
    "# where we use condition when condition true loop will we execute otherwise loop will\n",
    "# not be execute \n",
    "# for example \n",
    "#   take a input from user and divide by 2 its untill before number \n",
    "#   should less than 10\n",
    "number = int (input(\"enter the number \"))\n",
    "count = 0              \n",
    "while (number>10):\n",
    "              count = count +1\n",
    "              number= number/2\n",
    "print(count)              \n",
    "              "
   ]
  },
  {
   "cell_type": "code",
   "execution_count": null,
   "id": "b6e99c53-79df-4def-8c57-dca32fba3ef2",
   "metadata": {},
   "outputs": [],
   "source": [
    "#Q2.write a python program to print the sum and product of the first 10 natural number using for and while loops "
   ]
  },
  {
   "cell_type": "code",
   "execution_count": 4,
   "id": "65dbe26f-1b07-4494-ae16-42721d5aa961",
   "metadata": {},
   "outputs": [
    {
     "name": "stdout",
     "output_type": "stream",
     "text": [
      "55\n",
      "3628800\n"
     ]
    }
   ],
   "source": [
    "#using for loops\n",
    "l= [1,2,3,4,5,6,7,8,9,10]\n",
    "sum = 0\n",
    "for i in l :\n",
    "    sum = sum +i\n",
    "print(sum)    \n",
    "\n",
    "product = 1\n",
    "for i in l:\n",
    "    product = product*i\n",
    "print(product)    \n",
    "    \n"
   ]
  },
  {
   "cell_type": "code",
   "execution_count": 2,
   "id": "6948815a-7965-41c3-b0e8-59c85df293e9",
   "metadata": {},
   "outputs": [
    {
     "name": "stdout",
     "output_type": "stream",
     "text": [
      "55\n",
      "3628800\n"
     ]
    }
   ],
   "source": [
    "#using while loop\n",
    "l=[1,2,3,4,5,6,7,8,9,10]\n",
    "i=1\n",
    "sum=0\n",
    "while (i<=10):\n",
    "    sum=sum+i\n",
    "    i=i+1\n",
    "print(sum)\n",
    "\n",
    "\n",
    "i=1\n",
    "product =1\n",
    "while (i<=10):\n",
    "    product = product*i\n",
    "    i=i+1\n",
    "print(product)    \n",
    "\n",
    "\n"
   ]
  },
  {
   "cell_type": "code",
   "execution_count": null,
   "id": "43588441-8e0e-4421-88af-c911025af576",
   "metadata": {},
   "outputs": [],
   "source": [
    "#Q3. Create a python program to compute the electricity bill for a household.\n",
    "\n",
    "#The per-unit charges in rupees are as follows: For the first 100 units, the user will be charged Rs. 4.5 per\n",
    "#unit, for the next 100 units, the user will be charged Rs. 6 per unit, and for the next 100 units, the user will\n",
    "#be charged Rs. 10 per unit, After 300 units and above the user will be charged Rs. 20 per unit."
   ]
  },
  {
   "cell_type": "code",
   "execution_count": 14,
   "id": "f56f0ad5-37d4-4736-9674-4bdc537b9458",
   "metadata": {},
   "outputs": [
    {
     "name": "stdin",
     "output_type": "stream",
     "text": [
      "enter the unit 310\n"
     ]
    },
    {
     "name": "stdout",
     "output_type": "stream",
     "text": [
      "2250.0\n"
     ]
    }
   ],
   "source": [
    "unit = int(input(\"enter the unit\"))\n",
    "bill = 0\n",
    "for i in range(1,unit+1):\n",
    "           if (i <=100):\n",
    "             bill =bill+4.5\n",
    "           elif(i<=200):\n",
    "              bill =bill+6\n",
    "           elif(i<=300):\n",
    "              bill = bill+10\n",
    "           else :\n",
    "              bill = bill+20\n",
    "           \n",
    "print(bill)           "
   ]
  },
  {
   "cell_type": "code",
   "execution_count": 3,
   "id": "a2a5b411-c960-4b0f-a40a-700960c82820",
   "metadata": {},
   "outputs": [],
   "source": [
    "#Q4. Create a list of numbers from 1 to 100. Use for loop and while loop to calculate the cube of each\n",
    "#number and if the cube of that number is divisible by 4 or 5 then append that number in a list and print\n",
    "#that list."
   ]
  },
  {
   "cell_type": "code",
   "execution_count": 1,
   "id": "52c2e9a4-2b09-4ea2-898b-f069e1ee2c77",
   "metadata": {},
   "outputs": [
    {
     "name": "stdout",
     "output_type": "stream",
     "text": [
      "[8, 64, 125, 216, 512, 1000, 1728, 2744, 3375, 4096, 5832, 8000, 10648, 13824, 15625, 17576, 21952, 27000, 32768, 39304, 42875, 46656, 54872, 64000, 74088, 85184, 91125, 97336, 110592, 125000, 140608, 157464, 166375, 175616, 195112, 216000, 238328, 262144, 274625, 287496, 314432, 343000, 373248, 405224, 421875, 438976, 474552, 512000, 551368, 592704, 614125, 636056, 681472, 729000, 778688, 830584, 857375, 884736, 941192, 1000000]\n"
     ]
    }
   ],
   "source": [
    "# FOR LOOP \n",
    "l =list(range(1,100+1))\n",
    "l1=[]\n",
    "for i in range(1,len(l)+1):\n",
    "    a= i**3\n",
    "    if(a%4==0 or a%5==0):\n",
    "        l1.append(a)\n",
    "   \n",
    "   \n",
    "      \n",
    "print(l1)        \n",
    "    "
   ]
  },
  {
   "cell_type": "code",
   "execution_count": 2,
   "id": "5df724f1-d6cd-4d97-913d-182589cc33e9",
   "metadata": {},
   "outputs": [
    {
     "name": "stdout",
     "output_type": "stream",
     "text": [
      "[8, 64, 125, 216, 512, 1000, 1728, 2744, 3375, 4096, 5832, 8000, 10648, 13824, 15625, 17576, 21952, 27000, 32768, 39304, 42875, 46656, 54872, 64000, 74088, 85184, 91125, 97336, 110592, 125000, 140608, 157464, 166375, 175616, 195112, 216000, 238328, 262144, 274625, 287496, 314432, 343000, 373248, 405224, 421875, 438976, 474552, 512000, 551368, 592704, 614125, 636056, 681472, 729000, 778688, 830584, 857375, 884736, 941192, 1000000]\n"
     ]
    }
   ],
   "source": [
    "# WHILE LOOP \n",
    "i=1\n",
    "l1=[]\n",
    "while (i<=100):\n",
    "    a = i**3\n",
    "    if (a%4==0 or a%5==0):\n",
    "        l1.append(a)\n",
    "    i= i+1\n",
    "print(l1)    "
   ]
  },
  {
   "cell_type": "code",
   "execution_count": 3,
   "id": "be036a1e-8fcc-4348-a001-29a84428ba32",
   "metadata": {},
   "outputs": [],
   "source": [
    "#Q5. Write a program to filter count vowels in the below-given string.\n",
    "#string = \"I want to become a data scientist\"\n",
    "    \n",
    "    \n"
   ]
  },
  {
   "cell_type": "code",
   "execution_count": 4,
   "id": "d54d070d-5914-449a-baf6-6845bfc56222",
   "metadata": {},
   "outputs": [
    {
     "name": "stdout",
     "output_type": "stream",
     "text": [
      "12\n"
     ]
    }
   ],
   "source": [
    "s = \"I want to become a data scientist\"\n",
    "count =0\n",
    "for i in s:\n",
    "    if (i==\"a\"or i =='A'):\n",
    "        count =count+1\n",
    "    if (i=='i'or i==\"I\"):\n",
    "        count = count+1\n",
    "    if (i ==\"e\" or i=='E'):\n",
    "        count =count+1\n",
    "    if(i=='o'or i==\"O\"):\n",
    "        count = count+1\n",
    "    if(i=='u'or i=='U'):\n",
    "        count =count+1\n",
    "print(count)       "
   ]
  },
  {
   "cell_type": "code",
   "execution_count": null,
   "id": "e9c20960-7a47-420b-9b95-a3d4dc74d292",
   "metadata": {},
   "outputs": [],
   "source": []
  }
 ],
 "metadata": {
  "kernelspec": {
   "display_name": "Python 3 (ipykernel)",
   "language": "python",
   "name": "python3"
  },
  "language_info": {
   "codemirror_mode": {
    "name": "ipython",
    "version": 3
   },
   "file_extension": ".py",
   "mimetype": "text/x-python",
   "name": "python",
   "nbconvert_exporter": "python",
   "pygments_lexer": "ipython3",
   "version": "3.10.8"
  }
 },
 "nbformat": 4,
 "nbformat_minor": 5
}
